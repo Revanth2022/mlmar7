{
 "cells": [
  {
   "cell_type": "code",
   "execution_count": 35,
   "id": "7c96bb8f",
   "metadata": {},
   "outputs": [],
   "source": [
    "import numpy as np\n",
    "import pandas as pd\n",
    "import matplotlib.pyplot as plt\n",
    "import seaborn as sns"
   ]
  },
  {
   "cell_type": "code",
   "execution_count": 36,
   "id": "17e18b6d",
   "metadata": {},
   "outputs": [
    {
     "data": {
      "text/html": [
       "<div>\n",
       "<style scoped>\n",
       "    .dataframe tbody tr th:only-of-type {\n",
       "        vertical-align: middle;\n",
       "    }\n",
       "\n",
       "    .dataframe tbody tr th {\n",
       "        vertical-align: top;\n",
       "    }\n",
       "\n",
       "    .dataframe thead th {\n",
       "        text-align: right;\n",
       "    }\n",
       "</style>\n",
       "<table border=\"1\" class=\"dataframe\">\n",
       "  <thead>\n",
       "    <tr style=\"text-align: right;\">\n",
       "      <th></th>\n",
       "      <th>TV</th>\n",
       "      <th>radio</th>\n",
       "      <th>newspaper</th>\n",
       "      <th>sales</th>\n",
       "    </tr>\n",
       "  </thead>\n",
       "  <tbody>\n",
       "    <tr>\n",
       "      <th>0</th>\n",
       "      <td>230.1</td>\n",
       "      <td>37.8</td>\n",
       "      <td>69.2</td>\n",
       "      <td>22.1</td>\n",
       "    </tr>\n",
       "    <tr>\n",
       "      <th>1</th>\n",
       "      <td>44.5</td>\n",
       "      <td>39.3</td>\n",
       "      <td>45.1</td>\n",
       "      <td>10.4</td>\n",
       "    </tr>\n",
       "    <tr>\n",
       "      <th>2</th>\n",
       "      <td>17.2</td>\n",
       "      <td>45.9</td>\n",
       "      <td>69.3</td>\n",
       "      <td>9.3</td>\n",
       "    </tr>\n",
       "    <tr>\n",
       "      <th>3</th>\n",
       "      <td>151.5</td>\n",
       "      <td>41.3</td>\n",
       "      <td>58.5</td>\n",
       "      <td>18.5</td>\n",
       "    </tr>\n",
       "    <tr>\n",
       "      <th>4</th>\n",
       "      <td>180.8</td>\n",
       "      <td>10.8</td>\n",
       "      <td>58.4</td>\n",
       "      <td>12.9</td>\n",
       "    </tr>\n",
       "  </tbody>\n",
       "</table>\n",
       "</div>"
      ],
      "text/plain": [
       "      TV  radio  newspaper  sales\n",
       "0  230.1   37.8       69.2   22.1\n",
       "1   44.5   39.3       45.1   10.4\n",
       "2   17.2   45.9       69.3    9.3\n",
       "3  151.5   41.3       58.5   18.5\n",
       "4  180.8   10.8       58.4   12.9"
      ]
     },
     "execution_count": 36,
     "metadata": {},
     "output_type": "execute_result"
    }
   ],
   "source": [
    "df =  pd.read_csv(r'C:\\Users\\revan\\Desktop\\ml\\modular2\\mlmar7\\data\\Advertising (1).csv')\n",
    "df.head()\n"
   ]
  },
  {
   "cell_type": "code",
   "execution_count": 37,
   "id": "de80a1e4",
   "metadata": {},
   "outputs": [
    {
     "data": {
      "text/html": [
       "<div>\n",
       "<style scoped>\n",
       "    .dataframe tbody tr th:only-of-type {\n",
       "        vertical-align: middle;\n",
       "    }\n",
       "\n",
       "    .dataframe tbody tr th {\n",
       "        vertical-align: top;\n",
       "    }\n",
       "\n",
       "    .dataframe thead th {\n",
       "        text-align: right;\n",
       "    }\n",
       "</style>\n",
       "<table border=\"1\" class=\"dataframe\">\n",
       "  <thead>\n",
       "    <tr style=\"text-align: right;\">\n",
       "      <th></th>\n",
       "      <th>TV</th>\n",
       "      <th>radio</th>\n",
       "      <th>newspaper</th>\n",
       "    </tr>\n",
       "  </thead>\n",
       "  <tbody>\n",
       "    <tr>\n",
       "      <th>0</th>\n",
       "      <td>230.1</td>\n",
       "      <td>37.8</td>\n",
       "      <td>69.2</td>\n",
       "    </tr>\n",
       "    <tr>\n",
       "      <th>1</th>\n",
       "      <td>44.5</td>\n",
       "      <td>39.3</td>\n",
       "      <td>45.1</td>\n",
       "    </tr>\n",
       "    <tr>\n",
       "      <th>2</th>\n",
       "      <td>17.2</td>\n",
       "      <td>45.9</td>\n",
       "      <td>69.3</td>\n",
       "    </tr>\n",
       "    <tr>\n",
       "      <th>3</th>\n",
       "      <td>151.5</td>\n",
       "      <td>41.3</td>\n",
       "      <td>58.5</td>\n",
       "    </tr>\n",
       "    <tr>\n",
       "      <th>4</th>\n",
       "      <td>180.8</td>\n",
       "      <td>10.8</td>\n",
       "      <td>58.4</td>\n",
       "    </tr>\n",
       "    <tr>\n",
       "      <th>...</th>\n",
       "      <td>...</td>\n",
       "      <td>...</td>\n",
       "      <td>...</td>\n",
       "    </tr>\n",
       "    <tr>\n",
       "      <th>195</th>\n",
       "      <td>38.2</td>\n",
       "      <td>3.7</td>\n",
       "      <td>13.8</td>\n",
       "    </tr>\n",
       "    <tr>\n",
       "      <th>196</th>\n",
       "      <td>94.2</td>\n",
       "      <td>4.9</td>\n",
       "      <td>8.1</td>\n",
       "    </tr>\n",
       "    <tr>\n",
       "      <th>197</th>\n",
       "      <td>177.0</td>\n",
       "      <td>9.3</td>\n",
       "      <td>6.4</td>\n",
       "    </tr>\n",
       "    <tr>\n",
       "      <th>198</th>\n",
       "      <td>283.6</td>\n",
       "      <td>42.0</td>\n",
       "      <td>66.2</td>\n",
       "    </tr>\n",
       "    <tr>\n",
       "      <th>199</th>\n",
       "      <td>232.1</td>\n",
       "      <td>8.6</td>\n",
       "      <td>8.7</td>\n",
       "    </tr>\n",
       "  </tbody>\n",
       "</table>\n",
       "<p>200 rows × 3 columns</p>\n",
       "</div>"
      ],
      "text/plain": [
       "        TV  radio  newspaper\n",
       "0    230.1   37.8       69.2\n",
       "1     44.5   39.3       45.1\n",
       "2     17.2   45.9       69.3\n",
       "3    151.5   41.3       58.5\n",
       "4    180.8   10.8       58.4\n",
       "..     ...    ...        ...\n",
       "195   38.2    3.7       13.8\n",
       "196   94.2    4.9        8.1\n",
       "197  177.0    9.3        6.4\n",
       "198  283.6   42.0       66.2\n",
       "199  232.1    8.6        8.7\n",
       "\n",
       "[200 rows x 3 columns]"
      ]
     },
     "execution_count": 37,
     "metadata": {},
     "output_type": "execute_result"
    }
   ],
   "source": [
    "x=df.drop(['sales'],axis=1)\n",
    "x"
   ]
  },
  {
   "cell_type": "code",
   "execution_count": 38,
   "id": "4e50b38e",
   "metadata": {},
   "outputs": [],
   "source": [
    "y=df['sales']"
   ]
  },
  {
   "cell_type": "code",
   "execution_count": 39,
   "id": "7ab6f2ed",
   "metadata": {},
   "outputs": [],
   "source": [
    "from sklearn.model_selection import train_test_split\n",
    "X_train, X_test, y_train, y_test = train_test_split(x, y, test_size=0.33, random_state=101)"
   ]
  },
  {
   "cell_type": "code",
   "execution_count": 40,
   "id": "858c624a",
   "metadata": {},
   "outputs": [],
   "source": [
    "from sklearn.linear_model import LinearRegression"
   ]
  },
  {
   "cell_type": "code",
   "execution_count": 41,
   "id": "a7a3fd37",
   "metadata": {},
   "outputs": [],
   "source": [
    "model = LinearRegression()"
   ]
  },
  {
   "cell_type": "code",
   "execution_count": 42,
   "id": "cfffb82d",
   "metadata": {},
   "outputs": [],
   "source": [
    "model.fit(X_train,y_train)\n",
    "test_pred=model.predict(X_test)"
   ]
  },
  {
   "cell_type": "code",
   "execution_count": 43,
   "id": "225e347a",
   "metadata": {},
   "outputs": [],
   "source": [
    "from sklearn.metrics import mean_absolute_error, mean_squared_error"
   ]
  },
  {
   "cell_type": "code",
   "execution_count": 44,
   "id": "ce440a81",
   "metadata": {},
   "outputs": [
    {
     "data": {
      "text/plain": [
       "<AxesSubplot:xlabel='sales', ylabel='Count'>"
      ]
     },
     "execution_count": 44,
     "metadata": {},
     "output_type": "execute_result"
    },
    {
     "data": {
      "image/png": "[encoded data removed]",
      "text/plain": [
       "<Figure size 432x288 with 1 Axes>"
      ]
     },
     "metadata": {
      "needs_background": "light"
     },
     "output_type": "display_data"
    }
   ],
   "source": [
    "sns.histplot(data=df,x='sales',bins=20)"
   ]
  },
  {
   "cell_type": "code",
   "execution_count": 45,
   "id": "8c2f8a8c",
   "metadata": {},
   "outputs": [
    {
     "data": {
      "text/plain": [
       "1.236918849425931"
      ]
     },
     "execution_count": 45,
     "metadata": {},
     "output_type": "execute_result"
    }
   ],
   "source": [
    "mean_absolute_error(y_test, test_pred)"
   ]
  },
  {
   "cell_type": "code",
   "execution_count": 46,
   "id": "24ead24d",
   "metadata": {},
   "outputs": [
    {
     "data": {
      "text/plain": [
       "2.348375242713827"
      ]
     },
     "execution_count": 46,
     "metadata": {},
     "output_type": "execute_result"
    }
   ],
   "source": [
    "mean_squared_error(y_test, test_pred)"
   ]
  },
  {
   "cell_type": "code",
   "execution_count": 47,
   "id": "955ef967",
   "metadata": {},
   "outputs": [
    {
     "data": {
      "text/plain": [
       "1.532440942651242"
      ]
     },
     "execution_count": 47,
     "metadata": {},
     "output_type": "execute_result"
    }
   ],
   "source": [
    "np.sqrt(mean_squared_error(y_test, test_pred))"
   ]
  },
  {
   "cell_type": "code",
   "execution_count": 48,
   "id": "9fa107fa",
   "metadata": {},
   "outputs": [
    {
     "data": {
      "text/plain": [
       "<matplotlib.lines.Line2D at 0x1877b470310>"
      ]
     },
     "execution_count": 48,
     "metadata": {},
     "output_type": "execute_result"
    },
    {
     "data": {
      "image/png": "[encoded data removed]",
      "text/plain": [
       "<Figure size 432x288 with 1 Axes>"
      ]
     },
     "metadata": {
      "needs_background": "light"
     },
     "output_type": "display_data"
    }
   ],
   "source": [
    "test_residuals = y_test - test_pred\n",
    "sns.scatterplot(x=y_test, y= test_residuals)\n",
    "plt.axhline(y=0, color=\"red\",ls=\"--\")"
   ]
  },
  {
   "cell_type": "code",
   "execution_count": 49,
   "id": "7c405cbd",
   "metadata": {},
   "outputs": [
    {
     "name": "stderr",
     "output_type": "stream",
     "text": [
      "C:\\Users\\revan\\anaconda3\\envs\\rev_mar8\\lib\\site-packages\\seaborn\\distributions.py:2619: FutureWarning: `distplot` is a deprecated function and will be removed in a future version. Please adapt your code to use either `displot` (a figure-level function with similar flexibility) or `histplot` (an axes-level function for histograms).\n",
      "  warnings.warn(msg, FutureWarning)\n"
     ]
    },
    {
     "data": {
      "text/plain": [
       "Text(0.5, 0, 'residuals')"
      ]
     },
     "execution_count": 49,
     "metadata": {},
     "output_type": "execute_result"
    },
    {
     "data": {
      "image/png": "[encoded data removed]",
      "text/plain": [
       "<Figure size 432x288 with 1 Axes>"
      ]
     },
     "metadata": {
      "needs_background": "light"
     },
     "output_type": "display_data"
    }
   ],
   "source": [
    "sns.distplot(test_residuals, bins=25, kde=True)\n",
    "plt.xlabel(\"residuals\")"
   ]
  },
  {
   "cell_type": "code",
   "execution_count": 50,
   "id": "3e81f84d",
   "metadata": {},
   "outputs": [],
   "source": [
    "from joblib import dump,load"
   ]
  },
  {
   "cell_type": "code",
   "execution_count": 51,
   "id": "d3f01bc8",
   "metadata": {},
   "outputs": [
    {
     "data": {
      "text/plain": [
       "['modles\\\\model.joblib']"
      ]
     },
     "execution_count": 51,
     "metadata": {},
     "output_type": "execute_result"
    }
   ],
   "source": [
    "import os\n",
    "model_dir = \"modles\"\n",
    "os.makedirs(model_dir,exist_ok=True)\n",
    "filepath= os.path.join(model_dir, 'model.joblib')\n",
    "dump(model, filepath)"
   ]
  },
  {
   "cell_type": "code",
   "execution_count": 52,
   "id": "3c1b4c1b",
   "metadata": {},
   "outputs": [],
   "source": [
    "load_model =  load(r'C:\\Users\\revan\\Desktop\\ml\\modular2\\mlmar7\\modles\\model.joblib')"
   ]
  },
  {
   "cell_type": "code",
   "execution_count": 53,
   "id": "79614a31",
   "metadata": {},
   "outputs": [
    {
     "data": {
      "text/plain": [
       "array([ 0.04458371,  0.18525166, -0.00122463])"
      ]
     },
     "execution_count": 53,
     "metadata": {},
     "output_type": "execute_result"
    }
   ],
   "source": [
    "load_model.coef_"
   ]
  },
  {
   "cell_type": "code",
   "execution_count": 54,
   "id": "6567c121",
   "metadata": {},
   "outputs": [
    {
     "name": "stderr",
     "output_type": "stream",
     "text": [
      "C:\\Users\\revan\\anaconda3\\envs\\rev_mar8\\lib\\site-packages\\sklearn\\base.py:450: UserWarning: X does not have valid feature names, but LinearRegression was fitted with feature names\n",
      "  warnings.warn(\n"
     ]
    },
    {
     "data": {
      "text/plain": [
       "array([14.56263118])"
      ]
     },
     "execution_count": 54,
     "metadata": {},
     "output_type": "execute_result"
    }
   ],
   "source": [
    "example=[[151,25,15]]\n",
    "load_model.predict(example)"
   ]
  },
  {
   "cell_type": "code",
   "execution_count": 55,
   "id": "4dee6a43",
   "metadata": {},
   "outputs": [
    {
     "data": {
      "text/html": [
       "<div>\n",
       "<style scoped>\n",
       "    .dataframe tbody tr th:only-of-type {\n",
       "        vertical-align: middle;\n",
       "    }\n",
       "\n",
       "    .dataframe tbody tr th {\n",
       "        vertical-align: top;\n",
       "    }\n",
       "\n",
       "    .dataframe thead th {\n",
       "        text-align: right;\n",
       "    }\n",
       "</style>\n",
       "<table border=\"1\" class=\"dataframe\">\n",
       "  <thead>\n",
       "    <tr style=\"text-align: right;\">\n",
       "      <th></th>\n",
       "      <th>TV</th>\n",
       "      <th>radio</th>\n",
       "      <th>newspaper</th>\n",
       "    </tr>\n",
       "  </thead>\n",
       "  <tbody>\n",
       "    <tr>\n",
       "      <th>0</th>\n",
       "      <td>230.1</td>\n",
       "      <td>37.8</td>\n",
       "      <td>69.2</td>\n",
       "    </tr>\n",
       "    <tr>\n",
       "      <th>1</th>\n",
       "      <td>44.5</td>\n",
       "      <td>39.3</td>\n",
       "      <td>45.1</td>\n",
       "    </tr>\n",
       "    <tr>\n",
       "      <th>2</th>\n",
       "      <td>17.2</td>\n",
       "      <td>45.9</td>\n",
       "      <td>69.3</td>\n",
       "    </tr>\n",
       "    <tr>\n",
       "      <th>3</th>\n",
       "      <td>151.5</td>\n",
       "      <td>41.3</td>\n",
       "      <td>58.5</td>\n",
       "    </tr>\n",
       "    <tr>\n",
       "      <th>4</th>\n",
       "      <td>180.8</td>\n",
       "      <td>10.8</td>\n",
       "      <td>58.4</td>\n",
       "    </tr>\n",
       "  </tbody>\n",
       "</table>\n",
       "</div>"
      ],
      "text/plain": [
       "      TV  radio  newspaper\n",
       "0  230.1   37.8       69.2\n",
       "1   44.5   39.3       45.1\n",
       "2   17.2   45.9       69.3\n",
       "3  151.5   41.3       58.5\n",
       "4  180.8   10.8       58.4"
      ]
     },
     "execution_count": 55,
     "metadata": {},
     "output_type": "execute_result"
    }
   ],
   "source": [
    "# POLYNOMIAL REGRESSION\n",
    "x1 =df.drop(['sales'], axis=1)\n",
    "x1.head()\n"
   ]
  },
  {
   "cell_type": "code",
   "execution_count": 56,
   "id": "b23e0a7f",
   "metadata": {},
   "outputs": [],
   "source": [
    "from sklearn.preprocessing import PolynomialFeatures"
   ]
  },
  {
   "cell_type": "code",
   "execution_count": 57,
   "id": "3d6efe08",
   "metadata": {},
   "outputs": [
    {
     "data": {
      "text/plain": [
       "PolynomialFeatures(include_bias=False)"
      ]
     },
     "execution_count": 57,
     "metadata": {},
     "output_type": "execute_result"
    }
   ],
   "source": [
    "poly_conv = PolynomialFeatures(degree=2, include_bias=False)\n",
    "poly_conv.fit(x1)"
   ]
  },
  {
   "cell_type": "code",
   "execution_count": 58,
   "id": "13e25780",
   "metadata": {},
   "outputs": [],
   "source": [
    "poly_features = poly_conv.transform(x1)"
   ]
  },
  {
   "cell_type": "code",
   "execution_count": 59,
   "id": "37facfe2",
   "metadata": {},
   "outputs": [
    {
     "data": {
      "text/plain": [
       "(200, 9)"
      ]
     },
     "execution_count": 59,
     "metadata": {},
     "output_type": "execute_result"
    }
   ],
   "source": [
    "poly_features.shape"
   ]
  },
  {
   "cell_type": "code",
   "execution_count": 60,
   "id": "282b2a45",
   "metadata": {},
   "outputs": [
    {
     "name": "stdout",
     "output_type": "stream",
     "text": [
      "[230.1  37.8  69.2]\n",
      "[2.301000e+02 3.780000e+01 6.920000e+01 5.294601e+04 8.697780e+03\n",
      " 1.592292e+04 1.428840e+03 2.615760e+03 4.788640e+03]\n"
     ]
    }
   ],
   "source": [
    "print(np.array(x1.iloc[0]))\n",
    "print(poly_features[0])"
   ]
  },
  {
   "cell_type": "code",
   "execution_count": 61,
   "id": "ee467340",
   "metadata": {},
   "outputs": [],
   "source": [
    "from sklearn.model_selection import train_test_split\n",
    "X_train, X_test, y_train, y_test = train_test_split(poly_features, y, test_size=0.33, random_state=101)\n"
   ]
  },
  {
   "cell_type": "code",
   "execution_count": 62,
   "id": "02cbb9fa",
   "metadata": {},
   "outputs": [
    {
     "data": {
      "text/plain": [
       "LinearRegression()"
      ]
     },
     "execution_count": 62,
     "metadata": {},
     "output_type": "execute_result"
    }
   ],
   "source": [
    "model1 = LinearRegression()\n",
    "model1.fit(X_train,y_train)"
   ]
  },
  {
   "cell_type": "code",
   "execution_count": 63,
   "id": "c16ff493",
   "metadata": {},
   "outputs": [
    {
     "data": {
      "text/plain": [
       "array([13.97204613, 19.31163632, 12.34937446, 16.77918795,  7.86585082,\n",
       "        6.91555804, 20.11299294, 17.49707854, 10.56626076, 20.12510306,\n",
       "        9.45653268, 14.08673516, 12.06855682, 23.37172536, 19.67600099,\n",
       "        9.14838427, 12.13661295,  9.25938961,  8.42727726, 21.64817709,\n",
       "        7.0207988 , 19.36930318, 27.21526812, 24.54515558,  8.98640103,\n",
       "       11.86761484, 20.38278449,  9.22102483, 12.76121768,  8.64739673,\n",
       "        8.67463214, 20.20034879, 10.93174941,  6.85739529, 18.29226844,\n",
       "        9.5074497 , 10.35219229,  9.64459655,  7.4384789 , 11.03480643,\n",
       "       12.66080843, 10.69057937, 11.23958513,  7.4725002 , 11.38637684,\n",
       "       10.2667274 ,  6.12707279, 15.54892762, 13.43339421, 22.70762962,\n",
       "       10.41887348, 13.24665286, 14.2399427 , 11.85682389, 11.71631169,\n",
       "        5.5519889 , 25.01544605,  9.5463153 , 17.34861031, 15.7728373 ,\n",
       "       15.51033662, 25.57307088,  8.60367331, 21.60788857, 12.34127765,\n",
       "       22.21531611])"
      ]
     },
     "execution_count": 63,
     "metadata": {},
     "output_type": "execute_result"
    }
   ],
   "source": [
    "test_pred_pol = model1.predict(X_test)\n",
    "test_pred_pol"
   ]
  },
  {
   "cell_type": "code",
   "execution_count": 64,
   "id": "3b5f7a44",
   "metadata": {},
   "outputs": [
    {
     "data": {
      "text/plain": [
       "0.48428105352155515"
      ]
     },
     "execution_count": 64,
     "metadata": {},
     "output_type": "execute_result"
    }
   ],
   "source": [
    "MAE = mean_absolute_error(y_test, test_pred_pol)\n",
    "MAE"
   ]
  },
  {
   "cell_type": "code",
   "execution_count": 65,
   "id": "b5adbcbc",
   "metadata": {},
   "outputs": [
    {
     "data": {
      "text/plain": [
       "0.6482912032533633"
      ]
     },
     "execution_count": 65,
     "metadata": {},
     "output_type": "execute_result"
    }
   ],
   "source": [
    "RMSE = np.sqrt (mean_squared_error(y_test, test_pred_pol))\n",
    "RMSE"
   ]
  },
  {
   "cell_type": "code",
   "execution_count": 66,
   "id": "cd2c49e6",
   "metadata": {},
   "outputs": [
    {
     "data": {
      "text/plain": [
       "array([ 0.04458371,  0.18525166, -0.00122463])"
      ]
     },
     "execution_count": 66,
     "metadata": {},
     "output_type": "execute_result"
    }
   ],
   "source": [
    "model.coef_"
   ]
  },
  {
   "cell_type": "code",
   "execution_count": 67,
   "id": "1b47418a",
   "metadata": {},
   "outputs": [],
   "source": [
    "train_rmse_errors = []\n",
    "test_rmse_errors = []\n",
    "\n",
    "for d in range(1,10):\n",
    "    poly_converter =  PolynomialFeatures(degree=d)\n",
    "    poly_features = poly_converter.fit_transform(x1)\n",
    "    X_train, X_test, y_train, y_test = train_test_split(poly_features, y, test_size=0.33, random_state=101)\n",
    "\n",
    "    model = LinearRegression()\n",
    "    model.fit(X_train, y_train)\n",
    "\n",
    "    pred_train = model.predict(X_train)\n",
    "    pred_test = model.predict(X_test)\n",
    "\n",
    "    train_rmse_errors.append(np.sqrt(mean_squared_error(y_train,pred_train)))\n",
    "    test_rmse_errors.append(np.sqrt(mean_squared_error(y_test,pred_test)))\n",
    "\n",
    "\n",
    "\n"
   ]
  },
  {
   "cell_type": "code",
   "execution_count": 70,
   "id": "eb7b187b",
   "metadata": {},
   "outputs": [
    {
     "data": {
      "text/plain": [
       "[<matplotlib.lines.Line2D at 0x1870031aaf0>]"
      ]
     },
     "execution_count": 70,
     "metadata": {},
     "output_type": "execute_result"
    },
    {
     "data": {
      "image/png": "[encoded data removed]",
      "text/plain": [
       "<Figure size 432x288 with 1 Axes>"
      ]
     },
     "metadata": {
      "needs_background": "light"
     },
     "output_type": "display_data"
    }
   ],
   "source": [
    "#fig= plt.Figure(figsize=(20,16))\n",
    "#ax= fig.add_axes((0,0,1,1))\n",
    "plt.plot(range(1,6), train_rmse_errors[:5], label = 'train_rmse')\n",
    "plt.plot(range(1,6), test_rmse_errors[:5], label = 'test_rmse')\n",
    "\n",
    "\n"
   ]
  },
  {
   "cell_type": "code",
   "execution_count": 71,
   "id": "cabe323f",
   "metadata": {},
   "outputs": [
    {
     "data": {
      "text/plain": [
       "['modles\\\\model1.joblib']"
      ]
     },
     "execution_count": 71,
     "metadata": {},
     "output_type": "execute_result"
    }
   ],
   "source": [
    "filepath_poly= os.path.join(model_dir, 'model1.joblib')\n",
    "dump(model1,filepath_poly)"
   ]
  },
  {
   "cell_type": "code",
   "execution_count": 72,
   "id": "8e90ccd5",
   "metadata": {},
   "outputs": [],
   "source": [
    "load_model_poly = load(r'C:\\Users\\revan\\Desktop\\ml\\modular2\\mlmar7\\modles\\model1.joblib')"
   ]
  },
  {
   "cell_type": "code",
   "execution_count": 73,
   "id": "ca58da0b",
   "metadata": {},
   "outputs": [
    {
     "data": {
      "text/plain": [
       "array([ 5.25319441e-02,  1.42773271e-02,  1.47528851e-02, -1.12739168e-04,\n",
       "        1.13231490e-03, -5.42180033e-05,  6.26813126e-05,  8.93347558e-05,\n",
       "       -3.52004070e-05])"
      ]
     },
     "execution_count": 73,
     "metadata": {},
     "output_type": "execute_result"
    }
   ],
   "source": [
    "load_model_poly.coef_"
   ]
  },
  {
   "cell_type": "code",
   "execution_count": null,
   "id": "ff619c2b",
   "metadata": {},
   "outputs": [],
   "source": []
  }
 ],
 "metadata": {
  "kernelspec": {
   "display_name": "Python 3 (ipykernel)",
   "language": "python",
   "name": "python3"
  },
  "language_info": {
   "codemirror_mode": {
    "name": "ipython",
    "version": 3
   },
   "file_extension": ".py",
   "mimetype": "text/x-python",
   "name": "python",
   "nbconvert_exporter": "python",
   "pygments_lexer": "ipython3",
   "version": "3.9.0"
  }
 },
 "nbformat": 4,
 "nbformat_minor": 5
}
